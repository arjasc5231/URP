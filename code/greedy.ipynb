{
 "cells": [
  {
   "cell_type": "code",
   "execution_count": 3,
   "id": "3c70ebb3",
   "metadata": {
    "tags": []
   },
   "outputs": [],
   "source": [
    "import os\n",
    "import numpy as np\n",
    "\n",
    "import torch\n",
    "from torch_geometric.data import Dataset, Data\n",
    "\n",
    "from dig.xgraph.evaluation import XCollector\n",
    "\n",
    "import import_ipynb\n",
    "from influenceDataset import get_dataloader, influenceDataset\n",
    "from simulation import simul_fromData"
   ]
  },
  {
   "cell_type": "code",
   "execution_count": 4,
   "id": "34e5e179-9aa9-4cdb-b5c1-bbd7593efa33",
   "metadata": {
    "tags": []
   },
   "outputs": [
    {
     "name": "stdout",
     "output_type": "stream",
     "text": [
      "cuda\n"
     ]
    }
   ],
   "source": [
    "os.environ[\"CUDA_DEVICE_ORDER\"]=\"PCI_BUS_ID\"\n",
    "os.environ[\"CUDA_VISIBLE_DEVICES\"]= \"3\" \n",
    "\n",
    "device = torch.device(\"cuda\" if torch.cuda.is_available() else \"cpu\")\n",
    "print(device)"
   ]
  },
  {
   "cell_type": "code",
   "execution_count": 17,
   "id": "4552f8c7",
   "metadata": {
    "tags": []
   },
   "outputs": [],
   "source": [
    "def greedy(data, sparsity):\n",
    "    n = len(data.x)\n",
    "    m = len(data.edge_attr)\n",
    "    hard_mask = [1]*n\n",
    "    edge_live = set(range(m))\n",
    "    zero = data.x.sum()\n",
    "    origin = simul_fromData(data, hard_mask).sum()\n",
    "    \n",
    "    for _ in range(int(m*sparsity)):\n",
    "        pred_min = origin\n",
    "        idx_min = 0\n",
    "        for i in edge_live:\n",
    "            hard_mask[i]=0\n",
    "            pred = sum(simul_fromData(data, hard_mask))\n",
    "            hard_mask[i]=1\n",
    "            \n",
    "            if pred<pred_min:\n",
    "                pred_min = pred\n",
    "                idx_min = i\n",
    "        hard_mask[idx_min]=0\n",
    "        edge_live.remove(idx_min)\n",
    "    \n",
    "    hard_mask_out = [1-x for x in hard_mask]\n",
    "    related_preds = [{'zero':zero, 'masked':simul_fromData(data,hard_mask).sum(), 'maskout':simul_fromData(data,hard_mask_out).sum(), 'origin':origin}]\n",
    "    return None, hard_mask, related_preds\n",
    "        \n",
    "\n",
    "            \n",
    "def pipeline():    \n",
    "    dataset = influenceDataset('/data/URP','/data/URP/graphs')\n",
    "\n",
    "    x_collector = XCollector()\n",
    "    for i, data in enumerate(dataset):\n",
    "        print(i)\n",
    "        _, hard_mask, related_preds = greedy(data, sparsity=0.0001)\n",
    "        x_collector.collect_data(hard_mask, related_preds)\n",
    "        break\n",
    "    \n",
    "    print(x_collector)\n",
    "    print(f'Fidelity: {x_collector.fidelity:.4f}\\n'\n",
    "          f'Fidelity_inv: {x_collector.fidelity_inv: .4f}\\n'\n",
    "          f'Sparsity: {x_collector.sparsity:.4f}')"
   ]
  },
  {
   "cell_type": "code",
   "execution_count": 18,
   "id": "f6ca44d9",
   "metadata": {
    "scrolled": true,
    "tags": []
   },
   "outputs": [
    {
     "name": "stdout",
     "output_type": "stream",
     "text": [
      "0\n"
     ]
    },
    {
     "ename": "KeyboardInterrupt",
     "evalue": "",
     "output_type": "error",
     "traceback": [
      "\u001b[0;31m---------------------------------------------------------------------------\u001b[0m",
      "\u001b[0;31mKeyboardInterrupt\u001b[0m                         Traceback (most recent call last)",
      "Cell \u001b[0;32mIn[18], line 1\u001b[0m\n\u001b[0;32m----> 1\u001b[0m \u001b[43mpipeline\u001b[49m\u001b[43m(\u001b[49m\u001b[43m)\u001b[49m \u001b[38;5;66;03m# 8:47\u001b[39;00m\n\u001b[1;32m      2\u001b[0m \u001b[38;5;66;03m# sparsity 0.0001 10분간 하나도 처리 못함\u001b[39;00m\n",
      "Cell \u001b[0;32mIn[17], line 35\u001b[0m, in \u001b[0;36mpipeline\u001b[0;34m()\u001b[0m\n\u001b[1;32m     33\u001b[0m \u001b[38;5;28;01mfor\u001b[39;00m i, data \u001b[38;5;129;01min\u001b[39;00m \u001b[38;5;28menumerate\u001b[39m(dataset):\n\u001b[1;32m     34\u001b[0m     \u001b[38;5;28mprint\u001b[39m(i)\n\u001b[0;32m---> 35\u001b[0m     _, hard_mask, related_preds \u001b[38;5;241m=\u001b[39m \u001b[43mgreedy\u001b[49m\u001b[43m(\u001b[49m\u001b[43mdata\u001b[49m\u001b[43m,\u001b[49m\u001b[43m \u001b[49m\u001b[43msparsity\u001b[49m\u001b[38;5;241;43m=\u001b[39;49m\u001b[38;5;241;43m0.0001\u001b[39;49m\u001b[43m)\u001b[49m\n\u001b[1;32m     36\u001b[0m     x_collector\u001b[38;5;241m.\u001b[39mcollect_data(hard_mask, related_preds)\n\u001b[1;32m     37\u001b[0m     \u001b[38;5;28;01mbreak\u001b[39;00m\n",
      "Cell \u001b[0;32mIn[17], line 14\u001b[0m, in \u001b[0;36mgreedy\u001b[0;34m(data, sparsity)\u001b[0m\n\u001b[1;32m     12\u001b[0m \u001b[38;5;28;01mfor\u001b[39;00m i \u001b[38;5;129;01min\u001b[39;00m edge_live:\n\u001b[1;32m     13\u001b[0m     hard_mask[i]\u001b[38;5;241m=\u001b[39m\u001b[38;5;241m0\u001b[39m\n\u001b[0;32m---> 14\u001b[0m     pred \u001b[38;5;241m=\u001b[39m \u001b[38;5;28msum\u001b[39m(\u001b[43msimul_fromData\u001b[49m\u001b[43m(\u001b[49m\u001b[43mdata\u001b[49m\u001b[43m,\u001b[49m\u001b[43m \u001b[49m\u001b[43mhard_mask\u001b[49m\u001b[43m)\u001b[49m)\n\u001b[1;32m     15\u001b[0m     hard_mask[i]\u001b[38;5;241m=\u001b[39m\u001b[38;5;241m1\u001b[39m\n\u001b[1;32m     17\u001b[0m     \u001b[38;5;28;01mif\u001b[39;00m pred\u001b[38;5;241m<\u001b[39mpred_min:\n",
      "File \u001b[0;32m<string>:13\u001b[0m, in \u001b[0;36msimul_fromData\u001b[0;34m(data, hard_mask)\u001b[0m\n",
      "File \u001b[0;32m<string>:17\u001b[0m, in \u001b[0;36msimul\u001b[0;34m(adj_list, seed_idx, simul_num, step_max)\u001b[0m\n",
      "\u001b[0;31mKeyboardInterrupt\u001b[0m: "
     ]
    }
   ],
   "source": [
    "pipeline() # 8:56\n",
    "# sparsity 0.0001 10분간 하나도 처리 못함"
   ]
  },
  {
   "cell_type": "code",
   "execution_count": 11,
   "id": "3440f59c",
   "metadata": {
    "tags": []
   },
   "outputs": [
    {
     "name": "stdout",
     "output_type": "stream",
     "text": [
      "0\n",
      "{'zero': tensor(3.), 'masked': 3.0962, 'maskout': 4.0, 'origin': 4.0982}\n",
      "[1, 1, 0, 0, 1]\n",
      "\n",
      "1\n",
      "{'zero': tensor(3.), 'masked': 3.0979, 'maskout': 4.0, 'origin': 4.1018}\n",
      "[1, 1, 0, 0, 1]\n",
      "\n",
      "2\n",
      "{'zero': tensor(3.), 'masked': 4.0, 'maskout': 5.0, 'origin': 5.0}\n",
      "[0, 1, 1, 1, 0]\n",
      "\n"
     ]
    }
   ],
   "source": [
    "\n",
    "x = torch.tensor([[1], [0], [1], [1], [0]], dtype=torch.float)\n",
    "edge_index = torch.tensor([[0, 1, 2, 3, 3], [1, 2, 1, 1, 4]], dtype=torch.long)\n",
    "edge_attr1 = torch.tensor([[0], [0.8], [1], [0.5], [0.1]], dtype=torch.float)\n",
    "edge_attr2 = torch.tensor([[1], [0.2], [1], [0.8], [1]], dtype=torch.float)\n",
    "data11 = Data(x=x, edge_index=edge_index, edge_attr=edge_attr1)\n",
    "data12 = Data(x=x, edge_index=edge_index, edge_attr=edge_attr1)\n",
    "data21 = Data(x=x, edge_index=edge_index, edge_attr=edge_attr2)\n",
    "\n",
    "for i, data in enumerate([data11,data12,data21]):\n",
    "    _, hard_mask, related_preds = greedy(data, sparsity=0.5)\n",
    "    \n",
    "    print(i)\n",
    "    print(related_preds)\n",
    "    print(hard_mask)\n",
    "    print()\n"
   ]
  }
 ],
 "metadata": {
  "kernelspec": {
   "display_name": "Python 3 (ipykernel)",
   "language": "python",
   "name": "python3"
  },
  "language_info": {
   "codemirror_mode": {
    "name": "ipython",
    "version": 3
   },
   "file_extension": ".py",
   "mimetype": "text/x-python",
   "name": "python",
   "nbconvert_exporter": "python",
   "pygments_lexer": "ipython3",
   "version": "3.10.11"
  }
 },
 "nbformat": 4,
 "nbformat_minor": 5
}

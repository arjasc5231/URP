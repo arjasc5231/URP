{
 "cells": [
  {
   "cell_type": "code",
   "execution_count": 1,
   "id": "6a46d8fa",
   "metadata": {
    "tags": []
   },
   "outputs": [
    {
     "name": "stdout",
     "output_type": "stream",
     "text": [
      "importing Jupyter notebook from influenceDataset.ipynb\n",
      "importing Jupyter notebook from gnnNets.ipynb\n",
      "importing Jupyter notebook from base_explainer.ipynb\n"
     ]
    }
   ],
   "source": [
    "import os\n",
    "from math import sqrt\n",
    "from typing import Any, Callable, List, Tuple, Union, Dict\n",
    "\n",
    "import torch\n",
    "import torch.nn as nn\n",
    "from torch import Tensor\n",
    "from torch_geometric.data import DataLoader\n",
    "from torch_geometric.utils.loop import add_remaining_self_loops\n",
    "\n",
    "from dig.xgraph.models.utils import subgraph\n",
    "from dig.xgraph.evaluation import XCollector\n",
    "from dig.xgraph.models.ext.deeplift.layer_deep_lift import DeepLift\n",
    "\n",
    "import import_ipynb\n",
    "from influenceDataset import get_dataloader, influenceDataset\n",
    "from gnnNets import get_gnnNets\n",
    "from base_explainer import WalkBase"
   ]
  },
  {
   "cell_type": "code",
   "execution_count": 2,
   "id": "bf617c39-f2c4-4494-a631-d816b17e377f",
   "metadata": {
    "tags": []
   },
   "outputs": [
    {
     "name": "stdout",
     "output_type": "stream",
     "text": [
      "cuda\n"
     ]
    }
   ],
   "source": [
    "os.environ[\"CUDA_DEVICE_ORDER\"]=\"PCI_BUS_ID\"\n",
    "os.environ[\"CUDA_VISIBLE_DEVICES\"]= \"3\" \n",
    "\n",
    "device = torch.device(\"cuda\" if torch.cuda.is_available() else \"cpu\")\n",
    "print(device)"
   ]
  },
  {
   "cell_type": "code",
   "execution_count": 3,
   "id": "b6d78dda",
   "metadata": {
    "tags": []
   },
   "outputs": [],
   "source": [
    "\"\"\"\n",
    "이것도 self_loop를 추가한다. 왜?\n",
    "\n",
    "deeplift의 정확한 원리를 모르고 edge_attr를 사용하도록 수정했다. 제대로 수정한건지 확인 필요\n",
    "\"\"\"\n",
    "class DeepLIFT(WalkBase):\n",
    "    r\"\"\"\n",
    "    An implementation of DeepLIFT on graph in\n",
    "    `Learning Important Features Through Propagating Activation Differences <https://arxiv.org/abs/1704.02685>`_.\n",
    "    Args:\n",
    "        model (torch.nn.Module): The target model prepared to explain.\n",
    "        explain_graph (bool, optional): Whether to explain graph classification model.\n",
    "            (default: :obj:`False`)\n",
    "    .. note:: For node classification model, the :attr:`explain_graph` flag is False.\n",
    "        For an example, see `benchmarks/xgraph\n",
    "        <https://github.com/divelab/DIG/tree/dig/benchmarks/xgraph>`_.\n",
    "    \"\"\"\n",
    "\n",
    "    def __init__(self, model: nn.Module, explain_graph: bool = False):\n",
    "        super().__init__(model=model, explain_graph=explain_graph)\n",
    "\n",
    "    def forward(self,\n",
    "                x: Tensor,\n",
    "                edge_index: Tensor,\n",
    "                edge_attr: Tensor,\n",
    "                **kwargs\n",
    "                ):\n",
    "        r\"\"\"\n",
    "        Run the explainer for a specific graph instance.\n",
    "        Args:\n",
    "            x (torch.Tensor): The graph instance's input node features.\n",
    "            edge_index (torch.Tensor): The graph instance's edge index.\n",
    "            **kwargs (dict): :obj:`node_idx` （int): The index of node that is pending to be explained.\n",
    "                (for node classification) :obj:`sparsity` (float): The Sparsity we need to control to transform a\n",
    "                soft mask to a hard mask. (Default: :obj:`0.7`)\n",
    "        :rtype: (None, list, list)\n",
    "        .. note::\n",
    "            (None, edge_masks, related_predictions):\n",
    "            edge_masks is a list of edge-level explanation for each class;\n",
    "            related_predictions is a list of dictionary for each class\n",
    "            where each dictionary includes 4 type predicted probabilities.\n",
    "        \"\"\"\n",
    "\n",
    "        # --- run the model once ---\n",
    "        super().forward(x=x, edge_index=edge_index, edge_attr=edge_attr, **kwargs)\n",
    "        self.model.eval()\n",
    "        self_loop_edge_index, _ = add_remaining_self_loops(edge_index, num_nodes=self.num_nodes)\n",
    "        \n",
    "        \"\"\"\n",
    "        if not self.explain_graph:\n",
    "            node_idx = kwargs.get('node_idx')\n",
    "            if not node_idx.dim():\n",
    "                node_idx = node_idx.reshape(-1)\n",
    "            node_idx = node_idx.to(self.device)\n",
    "            assert node_idx is not None\n",
    "            self.subset, _, _, self.hard_edge_mask = subgraph(\n",
    "                node_idx, self.__num_hops__, self_loop_edge_index, relabel_nodes=True,\n",
    "                num_nodes=None, flow=self.__flow__())\n",
    "            self.new_node_idx = torch.where(self.subset == node_idx)[0]\n",
    "        \"\"\"\n",
    "\n",
    "        # --- add shap calculation hook ---\n",
    "        shap = DeepLift(self.model)\n",
    "        self.model.apply(shap._register_hooks)\n",
    "\n",
    "        inp_with_ref = torch.cat([x, torch.zeros(x.shape, device=self.device, dtype=torch.float)], dim=0).requires_grad_(True)\n",
    "        edge_index_with_ref = torch.cat([edge_index, edge_index + x.shape[0]], dim=1)\n",
    "        edge_attr_with_ref = torch.cat([edge_attr, edge_attr])\n",
    "        batch = torch.arange(2, dtype=torch.long, device=self.device).view(2, 1).repeat(1, x.shape[0]).reshape(-1)\n",
    "        out = self.model(inp_with_ref, edge_index_with_ref, edge_attr_with_ref, batch)\n",
    "\n",
    "        labels = tuple(i for i in range(kwargs.get('num_classes')))\n",
    "        ex_labels = tuple(torch.tensor([label]).to(self.device) for label in labels)\n",
    "\n",
    "        if kwargs.get('edge_masks'):\n",
    "            edge_masks = kwargs.pop('edge_masks')\n",
    "            hard_edge_masks = [self.control_sparsity(mask, kwargs.get('sparsity')).sigmoid() for mask in edge_masks]\n",
    "\n",
    "        else:\n",
    "            edge_masks = []\n",
    "            hard_edge_masks = []\n",
    "            for ex_label in ex_labels:\n",
    "\n",
    "                if self.explain_graph:\n",
    "                    f = torch.unbind(out[:, ex_label])\n",
    "                else:\n",
    "                    f = torch.unbind(out[[node_idx, node_idx + x.shape[0]], ex_label])\n",
    "\n",
    "                (m, ) = torch.autograd.grad(outputs=f, inputs=inp_with_ref, retain_graph=True)\n",
    "                inp, inp_ref = torch.chunk(inp_with_ref, 2)\n",
    "                attr_wo_relu = (torch.chunk(m, 2)[0] * (inp - inp_ref)).sum(1)\n",
    "\n",
    "                mask = attr_wo_relu.squeeze()\n",
    "                score_mask = (mask[self_loop_edge_index[0]] + mask[self_loop_edge_index[1]]) / 2\n",
    "                edge_masks.append(score_mask.detach())\n",
    "                mask = self.control_sparsity(score_mask, kwargs.get('sparsity'))\n",
    "                mask = mask.sigmoid()\n",
    "                hard_edge_masks.append(mask.detach())\n",
    "\n",
    "        # Store related predictions for further evaluation.\n",
    "        shap._remove_hooks()\n",
    "\n",
    "        with torch.no_grad():\n",
    "            with self.connect_mask(self):\n",
    "                related_preds = self.eval_related_pred(x, edge_index, edge_attr, hard_edge_masks, **kwargs)\n",
    "        return edge_masks, hard_edge_masks, related_preds"
   ]
  },
  {
   "cell_type": "code",
   "execution_count": 4,
   "id": "f46127d2",
   "metadata": {
    "tags": []
   },
   "outputs": [],
   "source": [
    "def pipeline():\n",
    "    dataset = influenceDataset('/data/URP','/data/URP/graphs')\n",
    "        \n",
    "    model = get_gnnNets(1, 1, {'gnn_latent_dim':[128,128,128], 'add_self_loop':False})\n",
    "    model.load_state_dict(torch.load('/data/URP/model/bestmodel.pt'))\n",
    "    model.to(device)\n",
    "    \n",
    "    deep_lift = DeepLIFT(model, explain_graph=True)\n",
    "    \n",
    "    index = 0\n",
    "    x_collector = XCollector()\n",
    "    for i, data in enumerate(dataset):\n",
    "        index += 1\n",
    "        data.edge_index, data.edge_attr = add_remaining_self_loops(data.edge_index, edge_attr=data.edge_attr, num_nodes=data.num_nodes)\n",
    "        data.to(device)\n",
    "        edge_masks, hard_edge_masks, related_preds = \\\n",
    "                    deep_lift(data.x, data.edge_index, data.edge_attr,\n",
    "                              sparsity=0.1,\n",
    "                              num_classes=dataset.num_classes)\n",
    "        edge_masks = [edge_mask.to('cpu') for edge_mask in edge_masks]\n",
    "        \n",
    "        model.eval()\n",
    "        prediction = model(data).argmax(-1).item()\n",
    "        x_collector.collect_data(edge_masks, related_preds, label=prediction)\n",
    "    \n",
    "    print(f'Fidelity: {x_collector.fidelity:.4f}\\n'\n",
    "          f'Fidelity_inv: {x_collector.fidelity_inv: .4f}\\n'\n",
    "          f'Sparsity: {x_collector.sparsity:.4f}')"
   ]
  },
  {
   "cell_type": "code",
   "execution_count": 5,
   "id": "405a29b8",
   "metadata": {
    "tags": []
   },
   "outputs": [
    {
     "name": "stdout",
     "output_type": "stream",
     "text": [
      "Fidelity: 3.8500\n",
      "Fidelity_inv:  0.0173\n",
      "Sparsity: 0.1000\n"
     ]
    }
   ],
   "source": [
    "pipeline()"
   ]
  },
  {
   "cell_type": "code",
   "execution_count": 4,
   "id": "0b6a69e2",
   "metadata": {},
   "outputs": [
    {
     "name": "stdout",
     "output_type": "stream",
     "text": [
      "1\n",
      "[{'zero': tensor([0.3027]), 'masked': tensor([360.6983]), 'maskout': tensor([156.1122]), 'origin': tensor([360.6983]), 'sparsity': tensor(0.5000)}]\n",
      "[tensor([1., 0., 0., 1., 1., 1., 0., 0., 1., 0.])]\n",
      "\n",
      "2\n",
      "[{'zero': tensor([0.3027]), 'masked': tensor([360.6983]), 'maskout': tensor([156.1122]), 'origin': tensor([360.6983]), 'sparsity': tensor(0.5000)}]\n",
      "[tensor([1., 0., 0., 1., 1., 1., 0., 0., 1., 0.])]\n",
      "\n",
      "3\n",
      "[{'zero': tensor([0.3027]), 'masked': tensor([360.6983]), 'maskout': tensor([65.3457]), 'origin': tensor([631.2159]), 'sparsity': tensor(0.5000)}]\n",
      "[tensor([1., 0., 0., 1., 0., 1., 0., 1., 1., 0.])]\n",
      "\n"
     ]
    }
   ],
   "source": [
    "# text\n",
    "\"\"\"\n",
    "from torch_geometric.data import Data\n",
    "x = torch.tensor([[1], [0], [1], [1], [0]], dtype=torch.float)\n",
    "edge_index = torch.tensor([[0, 1, 2, 3, 3], [1, 2, 1, 1, 4]], dtype=torch.long)\n",
    "edge_attr1 = torch.tensor([[0], [0.8], [1], [0.5], [0.1]], dtype=torch.float)\n",
    "edge_attr2 = torch.tensor([[1], [0.2], [1], [0.8], [1]], dtype=torch.float)\n",
    "data11 = Data(x=x, edge_index=edge_index, edge_attr=edge_attr1)\n",
    "data12 = Data(x=x, edge_index=edge_index, edge_attr=edge_attr1)\n",
    "data21 = Data(x=x, edge_index=edge_index, edge_attr=edge_attr2)\n",
    "\n",
    "model = get_gnnNets(1, 1, {'gnn_latent_dim':[128,128,128], 'add_self_loop':False})\n",
    "model.load_state_dict(torch.load('../model/bestmodel.pt'))\n",
    "\n",
    "gnngi_explainer = DeepLIFT(model, explain_graph=True)\n",
    "\n",
    "index = 0\n",
    "for i, data in enumerate([data11,data12,data21]):\n",
    "    index += 1\n",
    "    data.edge_index, data.edge_attr = add_remaining_self_loops(data.edge_index, edge_attr=data.edge_attr, num_nodes=data.num_nodes)\n",
    "    pred = model(data)\n",
    "    walks, edge_masks, related_preds = \\\n",
    "        gnngi_explainer(data.x, data.edge_index, data.edge_attr,\n",
    "                        sparsity=0.5,\n",
    "                        num_classes=1)\n",
    "    print(index)\n",
    "    print(related_preds)\n",
    "    print(edge_masks)\n",
    "    print()\n",
    "\"\"\""
   ]
  },
  {
   "cell_type": "code",
   "execution_count": null,
   "id": "f1ba733f",
   "metadata": {},
   "outputs": [],
   "source": []
  }
 ],
 "metadata": {
  "kernelspec": {
   "display_name": "Python 3 (ipykernel)",
   "language": "python",
   "name": "python3"
  },
  "language_info": {
   "codemirror_mode": {
    "name": "ipython",
    "version": 3
   },
   "file_extension": ".py",
   "mimetype": "text/x-python",
   "name": "python",
   "nbconvert_exporter": "python",
   "pygments_lexer": "ipython3",
   "version": "3.10.11"
  }
 },
 "nbformat": 4,
 "nbformat_minor": 5
}

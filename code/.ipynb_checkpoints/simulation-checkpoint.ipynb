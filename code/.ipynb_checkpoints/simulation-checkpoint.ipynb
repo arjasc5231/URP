{
 "cells": [
  {
   "cell_type": "code",
   "execution_count": 1,
   "id": "ac424c2a",
   "metadata": {
    "tags": []
   },
   "outputs": [],
   "source": [
    "import random\n",
    "import pickle\n",
    "import gzip\n",
    "from collections import deque\n",
    "import numpy as np\n",
    "import torch\n",
    "from torch_geometric.data import Data\n",
    "from multiprocessing import Pool"
   ]
  },
  {
   "cell_type": "code",
   "execution_count": 2,
   "id": "e299f578",
   "metadata": {
    "tags": []
   },
   "outputs": [],
   "source": [
    "SIMUL_NUM = 10000\n",
    "STEP_MAX = 100"
   ]
  },
  {
   "cell_type": "code",
   "execution_count": 3,
   "id": "7e2c66bf",
   "metadata": {
    "tags": []
   },
   "outputs": [],
   "source": [
    "def simul_fromData(data, hard_mask):\n",
    "    x = data.x.numpy().squeeze().astype(int)\n",
    "    edge_index = data.edge_index.numpy()\n",
    "    edge_attr = data.edge_attr.numpy().squeeze()\n",
    "    n = len(x)\n",
    "    \n",
    "    seed_idx = np.where(x==1)[0]\n",
    "    adj_list = [[] for _ in range(n)]\n",
    "    for i in range(n):\n",
    "        if not hard_mask[i]: continue\n",
    "        u,v,p = edge_index[0,i], edge_index[1,i],edge_attr[i]\n",
    "        adj_list[u].append((v,p))\n",
    "    return simul(adj_list, seed_idx)"
   ]
  },
  {
   "cell_type": "code",
   "execution_count": 4,
   "id": "c7c0d222",
   "metadata": {
    "tags": []
   },
   "outputs": [],
   "source": [
    "def simul(adj_list, seed_idx, simul_num=SIMUL_NUM, step_max=STEP_MAX):\n",
    "    n = len(adj_list)\n",
    "    seed = np.zeros(n, dtype=int)\n",
    "    seed[seed_idx] = 1\n",
    "    \n",
    "    active_num = np.zeros(n, dtype=int)\n",
    "    \n",
    "    for _ in range(simul_num):\n",
    "        active = seed.copy()\n",
    "        \n",
    "        Q = deque(seed_idx)\n",
    "        for _ in range(step_max):\n",
    "            if not Q: break\n",
    "            for _ in range(len(Q)):\n",
    "                u = Q.popleft()\n",
    "                for v,p in adj_list[u]:\n",
    "                    if active[v]: continue\n",
    "                    if random.random()<p:\n",
    "                        active[v]=1\n",
    "                        Q.append(v)\n",
    "        active_num+=active\n",
    "    \n",
    "    prob = active_num/simul_num\n",
    "    return prob"
   ]
  },
  {
   "cell_type": "code",
   "execution_count": 5,
   "id": "572f7426",
   "metadata": {
    "tags": []
   },
   "outputs": [],
   "source": [
    "# seed set 크기는 일정 이상으로 커져봤자 큰 차이 없으니 우선 20%까지만 실험\n",
    "def simul_random_seeds(adj, data_num):    \n",
    "    n = len(adj)\n",
    "    seeds = []\n",
    "    probs = []\n",
    "    \n",
    "    seed_sizes = np.random.randint(1, max(1,int(n*0.2)), size=data_num)\n",
    "    for i in range(data_num):\n",
    "        if i%100==0: print(f'{i}/{data_num}th simulation start')\n",
    "        seed_idx = np.random.choice(n,seed_sizes[i],replace=False)\n",
    "        seed = np.zeros(n, dtype=int)\n",
    "        seed[seed_idx] = 1\n",
    "        \n",
    "        prob = simul(adj,seed_idx)\n",
    "        \n",
    "        seeds.append(seed)\n",
    "        probs.append(prob)\n",
    "    \n",
    "    seeds = np.array(seeds)\n",
    "    probs = np.array(probs)\n",
    "    \n",
    "    return seeds, probs\n",
    "\n",
    "\n",
    "\n",
    "def simul_random_seeds_multi_helper(adj, seed_size):\n",
    "    n = len(adj)\n",
    "    seed_idx = np.random.choice(n,seed_size,replace=False)\n",
    "    seed = np.zeros(n, dtype=int)\n",
    "    seed[seed_idx] = 1\n",
    "\n",
    "    prob = simul(adj,seed_idx)\n",
    "    \n",
    "    return np.array([seed,prob])\n",
    "\n",
    "def simul_random_seeds_multi(adj, data_num):    \n",
    "    n = len(adj)\n",
    "    seeds = []\n",
    "    probs = []\n",
    "    \n",
    "    seed_sizes = np.random.randint(1, max(1,int(n*0.2)), size=data_num)\n",
    "    \n",
    "    result = Pool(5).starmap(simul_random_seeds_multi_helper, [(adj, seed_sizes[i]) for i in range(data_num)])\n",
    "    result = np.stack(result)\n",
    "    \n",
    "    return result[:,0],result[:,1]"
   ]
  },
  {
   "cell_type": "code",
   "execution_count": 9,
   "id": "2e2e20ca",
   "metadata": {
    "tags": []
   },
   "outputs": [],
   "source": [
    "def generate_data(graph_dir, save_dir, graph_name, data_num):\n",
    "    with open(graph_dir+'/'+graph_name+'.txt','r') as f:\n",
    "        n,m = map(int,f.readline().split())\n",
    "        adj = [[] for i in range(n)]\n",
    "        for _ in range(m):\n",
    "            u,v,p = f.readline().split()\n",
    "            u,v,p = int(u),int(v),float(p)\n",
    "            adj[u].append((v,p))\n",
    "    \n",
    "    seeds,probs = simul_random_seeds_multi(adj, data_num)\n",
    "    \n",
    "    with gzip.open(save_dir+'/'+graph_name+'.pkl.gz','wb') as f:\n",
    "        pickle.dump((seeds,probs), f, protocol=4)"
   ]
  },
  {
   "cell_type": "code",
   "execution_count": 10,
   "id": "11cc4044",
   "metadata": {
    "scrolled": true,
    "tags": []
   },
   "outputs": [],
   "source": [
    "#generate_data('/data/URP/graphs', '/data/URP/raw', 'Celebrity_train_JI', 350)\n",
    "# 1proc으로 100개에 15분정도"
   ]
  },
  {
   "cell_type": "code",
   "execution_count": 54,
   "id": "3db07975",
   "metadata": {
    "tags": []
   },
   "outputs": [
    {
     "name": "stdout",
     "output_type": "stream",
     "text": [
      "0/10th simulation start\n",
      "[1 0 0]\n",
      "[1.     0.4949 0.0932]\n",
      "\n",
      "[0 1 1]\n",
      "[0.3006 1.     1.    ]\n",
      "\n",
      "[0 1 1]\n",
      "[0.2965 1.     1.    ]\n",
      "\n",
      "[1 0 1]\n",
      "[1.    0.492 1.   ]\n",
      "\n",
      "[1 1 0]\n",
      "[1.     1.     0.2058]\n",
      "\n",
      "[0 1 1]\n",
      "[0.3003 1.     1.    ]\n",
      "\n",
      "[1 0 0]\n",
      "[1.     0.4968 0.1007]\n",
      "\n",
      "[1 1 0]\n",
      "[1.    1.    0.199]\n",
      "\n",
      "[1 0 1]\n",
      "[1.     0.5057 1.    ]\n",
      "\n",
      "[0 1 0]\n",
      "[0.2931 1.     0.1954]\n",
      "\n"
     ]
    }
   ],
   "source": [
    "# test code\n",
    "\"\"\"\n",
    "adj = [[(1,0.5)],[(0,0.3),(2,0.2)],[]]\n",
    "seed,prob = simul_random_seeds(adj,10)\n",
    "for i in range(10):\n",
    "    print(seed[i])\n",
    "    print(prob[i])\n",
    "    print()\n",
    "\"\"\""
   ]
  },
  {
   "cell_type": "code",
   "execution_count": 43,
   "id": "8a348fa7",
   "metadata": {
    "scrolled": true
   },
   "outputs": [
    {
     "name": "stdout",
     "output_type": "stream",
     "text": [
      "[0. 1. 1.]\n",
      "[0. 1. 1.]\n",
      "[1. 1. 1.]\n"
     ]
    }
   ],
   "source": [
    "#test\n",
    "\"\"\"\n",
    "x = torch.tensor([[0], [1], [1]], dtype=torch.float)\n",
    "edge_index = torch.tensor([[0, 1, 1, 2], [1, 0, 2, 1]], dtype=torch.long)\n",
    "edge_attr = torch.tensor([[0], [1], [1], [1]], dtype=torch.float)\n",
    "\n",
    "data = Data(x=x, edge_index=edge_index, edge_attr=edge_attr)\n",
    "\n",
    "print(simul_fromData(data, [0,0,0,0]))\n",
    "print(simul_fromData(data, [0,0,1,1]))\n",
    "print(simul_fromData(data, [1,1,1,1]))\n",
    "\"\"\""
   ]
  },
  {
   "cell_type": "code",
   "execution_count": null,
   "id": "73248b53",
   "metadata": {},
   "outputs": [],
   "source": []
  }
 ],
 "metadata": {
  "kernelspec": {
   "display_name": "Python 3 (ipykernel)",
   "language": "python",
   "name": "python3"
  },
  "language_info": {
   "codemirror_mode": {
    "name": "ipython",
    "version": 3
   },
   "file_extension": ".py",
   "mimetype": "text/x-python",
   "name": "python",
   "nbconvert_exporter": "python",
   "pygments_lexer": "ipython3",
   "version": "3.10.11"
  }
 },
 "nbformat": 4,
 "nbformat_minor": 5
}

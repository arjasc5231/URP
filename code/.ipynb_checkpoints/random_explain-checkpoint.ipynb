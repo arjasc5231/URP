{
 "cells": [
  {
   "cell_type": "code",
   "execution_count": 1,
   "id": "4cc94e90",
   "metadata": {
    "tags": []
   },
   "outputs": [
    {
     "name": "stdout",
     "output_type": "stream",
     "text": [
      "importing Jupyter notebook from influenceDataset.ipynb\n",
      "importing Jupyter notebook from gnnNets.ipynb\n",
      "importing Jupyter notebook from base_explainer.ipynb\n"
     ]
    }
   ],
   "source": [
    "import os\n",
    "from math import sqrt\n",
    "\n",
    "import torch\n",
    "import torch.nn as nn\n",
    "from torch_geometric.utils.loop import add_self_loops\n",
    "from torch_geometric.data import Dataset, Data, DataLoader\n",
    "from torch_geometric.nn import MessagePassing\n",
    "\n",
    "from dig.xgraph.models.utils import subgraph\n",
    "from dig.xgraph.evaluation import XCollector\n",
    "\n",
    "import import_ipynb\n",
    "from influenceDataset import get_dataloader, influenceDataset\n",
    "from gnnNets import get_gnnNets\n",
    "from base_explainer import ExplainerBase"
   ]
  },
  {
   "cell_type": "code",
   "execution_count": 2,
   "id": "b784b0d8-fd9c-4242-8be6-a534563d3531",
   "metadata": {
    "tags": []
   },
   "outputs": [
    {
     "name": "stdout",
     "output_type": "stream",
     "text": [
      "cuda\n"
     ]
    }
   ],
   "source": [
    "os.environ[\"CUDA_DEVICE_ORDER\"]=\"PCI_BUS_ID\"\n",
    "os.environ[\"CUDA_VISIBLE_DEVICES\"]= \"3\" \n",
    "\n",
    "device = torch.device(\"cuda\" if torch.cuda.is_available() else \"cpu\")\n",
    "print(device)"
   ]
  },
  {
   "cell_type": "code",
   "execution_count": 3,
   "id": "24a20117",
   "metadata": {
    "tags": []
   },
   "outputs": [],
   "source": [
    "\"\"\"\n",
    "왜 self loop를 추가하는지 모르겠다.\n",
    "\"\"\"\n",
    "class RandomSelectorExplainer(ExplainerBase):\n",
    "    def __init__(self, model: nn.Module, explain_graph: bool = False):\n",
    "        super().__init__(model=model, explain_graph=explain_graph)        \n",
    "        \n",
    "        \n",
    "    def forward(self, x, edge_index, edge_attr, **kwargs):\n",
    "        super().forward(x, edge_index, edge_attr)\n",
    "        self.model.eval()\n",
    "\n",
    "        # Assume the mask we will predict\n",
    "        labels = tuple(i for i in range(kwargs.get('num_classes')))\n",
    "        ex_labels = tuple(torch.tensor([label]).to(self.device) for label in labels)\n",
    "\n",
    "        if self.explain_graph:\n",
    "            self_loop_edge_index, _ = add_self_loops(edge_index, num_nodes=x.shape[0])\n",
    "            edge_mask = torch.rand(self_loop_edge_index.shape[1])\n",
    "            edge_masks = [edge_mask for _ in ex_labels]\n",
    "\n",
    "            self.__clear_masks__()\n",
    "            self.__set_masks__(x, self_loop_edge_index)\n",
    "            hard_edge_masks = [self.control_sparsity(edge_mask, sparsity=kwargs.get('sparsity')).sigmoid().to(self.device)\n",
    "                               for _ in ex_labels]\n",
    "            \n",
    "\n",
    "            with torch.no_grad():\n",
    "                related_preds = self.eval_related_pred(\n",
    "                    x, edge_index, edge_attr, hard_edge_masks)\n",
    "            self.__clear_masks__()\n",
    "\n",
    "        \"\"\"\n",
    "        else:\n",
    "            node_idx = kwargs.get('node_idx')\n",
    "            if not node_idx.dim():\n",
    "                node_idx = node_idx.reshape(-1)\n",
    "            node_idx = node_idx.to(self.device)\n",
    "            assert node_idx is not None\n",
    "\n",
    "            self_loop_edge_index, _ = add_self_loops(edge_index, num_nodes=x.shape[0])\n",
    "\n",
    "            _, _, _, self.hard_edge_mask = subgraph(\n",
    "                node_idx, self.__num_hops__, self_loop_edge_index,\n",
    "                relabel_nodes=True, num_nodes=None, flow=self.__flow__())\n",
    "\n",
    "            edge_mask = torch.rand(self_loop_edge_index.shape[1])\n",
    "\n",
    "            self.__clear_masks__()\n",
    "            self.__set_masks__(x, self_loop_edge_index)\n",
    "            edge_masks = [edge_mask for _ in ex_labels]\n",
    "            hard_edge_masks = [self.control_sparsity(\n",
    "                edge_mask, sparsity=kwargs.get('sparsity')).sigmoid().to(self.device) for _ in ex_labels]\n",
    "            \n",
    "            \n",
    "            with torch.no_grad():\n",
    "                related_preds = self.eval_related_pred(\n",
    "                    x, edge_index, hard_edge_masks, **kwargs)\n",
    "            self.__clear_masks__()\n",
    "        \"\"\"\n",
    "\n",
    "        return edge_masks, hard_edge_masks, related_preds"
   ]
  },
  {
   "cell_type": "code",
   "execution_count": 9,
   "id": "1b5dc9c9",
   "metadata": {
    "tags": []
   },
   "outputs": [],
   "source": [
    "def pipeline():\n",
    "    dataset = influenceDataset('/data/URP','/data/URP/graphs')\n",
    "        \n",
    "    model = get_gnnNets(1, 1, {'gnn_latent_dim':[128,128,128]})\n",
    "    model.load_state_dict(torch.load('/data/URP/model/bestmodel.pt'))\n",
    "    model.to(device)\n",
    "    \n",
    "    random_explainer = RandomSelectorExplainer(model, explain_graph=True)\n",
    "    \n",
    "    index = 0\n",
    "    x_collector = XCollector()\n",
    "    for i, data in enumerate(dataset):\n",
    "        index += 1\n",
    "        data.to(device)\n",
    "        walks, masks, related_preds = \\\n",
    "            random_explainer(data.x, data.edge_index, data.edge_attr,\n",
    "                             sparsity=0.1,\n",
    "                             num_classes=dataset.num_classes)\n",
    "        \n",
    "        model.eval()\n",
    "        prediction = model(data).argmax(-1).item()\n",
    "        x_collector.collect_data(masks, related_preds, label=prediction)\n",
    "    \n",
    "    print(f'Fidelity: {x_collector.fidelity:.4f}\\n'\n",
    "          f'Fidelity_inv: {x_collector.fidelity_inv: .4f}\\n'\n",
    "          f'Sparsity: {x_collector.sparsity:.4f}')"
   ]
  },
  {
   "cell_type": "code",
   "execution_count": 10,
   "id": "21abdedb",
   "metadata": {
    "scrolled": true,
    "tags": []
   },
   "outputs": [
    {
     "name": "stdout",
     "output_type": "stream",
     "text": [
      "Fidelity: 3.9890\n",
      "Fidelity_inv:  0.6591\n",
      "Sparsity: 0.1000\n"
     ]
    }
   ],
   "source": [
    "pipeline()"
   ]
  },
  {
   "cell_type": "code",
   "execution_count": null,
   "id": "63daaa1b",
   "metadata": {},
   "outputs": [],
   "source": []
  }
 ],
 "metadata": {
  "kernelspec": {
   "display_name": "Python 3 (ipykernel)",
   "language": "python",
   "name": "python3"
  },
  "language_info": {
   "codemirror_mode": {
    "name": "ipython",
    "version": 3
   },
   "file_extension": ".py",
   "mimetype": "text/x-python",
   "name": "python",
   "nbconvert_exporter": "python",
   "pygments_lexer": "ipython3",
   "version": "3.10.11"
  }
 },
 "nbformat": 4,
 "nbformat_minor": 5
}
